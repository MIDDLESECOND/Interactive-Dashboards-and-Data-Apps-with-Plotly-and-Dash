{
 "cells": [
  {
   "cell_type": "code",
   "execution_count": 1,
   "id": "e572b4e1-0ce6-4529-81dd-574140c25ad6",
   "metadata": {},
   "outputs": [
    {
     "data": {
      "text/plain": [
       "'C:\\\\Users\\\\Zhangc\\\\Anaconda3\\\\envs\\\\PhelpsDunbar\\\\python.exe'"
      ]
     },
     "execution_count": 1,
     "metadata": {},
     "output_type": "execute_result"
    }
   ],
   "source": [
    "import sys\n",
    "sys.executable"
   ]
  },
  {
   "cell_type": "code",
   "execution_count": 2,
   "id": "6a340b6c-214f-4811-96b4-902adc929a25",
   "metadata": {},
   "outputs": [],
   "source": [
    "from dash import Dash\n",
    "from dash import html, dcc\n",
    "from dash.dependencies import Output, Input"
   ]
  },
  {
   "cell_type": "code",
   "execution_count": 3,
   "id": "b25c0c5a-5d28-48c9-804d-53ceb3db753c",
   "metadata": {},
   "outputs": [],
   "source": [
    "app = Dash(__name__)"
   ]
  },
  {
   "cell_type": "code",
   "execution_count": 4,
   "id": "daf2d76d-4bf3-4d6d-9ff4-11e9849331b0",
   "metadata": {},
   "outputs": [],
   "source": [
    "app.layout = html.Div([\n",
    "    dcc.Dropdown(id = 'color_dropdown',\n",
    "                 options = [{\n",
    "        'label': color, 'value': color\n",
    "    }\n",
    "                           for color in ['blue', 'green', 'yellow']]),\n",
    "    html.Br(),\n",
    "    html.Div(id = 'color_output')\n",
    "])\n",
    "@app.callback(Output('color_output', 'children'),\n",
    "             Input('color_dropdown', 'value'))\n",
    "def display_selected_color(color):\n",
    "    if color is None:\n",
    "        color = 'Nothing'\n",
    "    return 'You selected ' + color"
   ]
  },
  {
   "cell_type": "code",
   "execution_count": 5,
   "id": "71b415f8-3408-4de3-97a0-35bed77217d2",
   "metadata": {
    "scrolled": true
   },
   "outputs": [
    {
     "data": {
      "text/html": [
       "\n",
       "        <iframe\n",
       "            width=\"100%\"\n",
       "            height=\"650\"\n",
       "            src=\"http://127.0.0.1:8050/\"\n",
       "            frameborder=\"0\"\n",
       "            allowfullscreen\n",
       "            \n",
       "        ></iframe>\n",
       "        "
      ],
      "text/plain": [
       "<IPython.lib.display.IFrame at 0x1b986a566a0>"
      ]
     },
     "metadata": {},
     "output_type": "display_data"
    }
   ],
   "source": [
    "if __name__ == '__main__':\n",
    "    app.run_server(mode = 'inline') "
   ]
  },
  {
   "cell_type": "code",
   "execution_count": 7,
   "id": "4037d586-dd5f-4557-851f-b3d3819eb105",
   "metadata": {},
   "outputs": [
    {
     "data": {
      "text/plain": [
       "['lat_long.csv',\n",
       " 'poverty.csv',\n",
       " 'PovStatsCountry-Series.csv',\n",
       " 'PovStatsCountry.csv',\n",
       " 'PovStatsData.csv',\n",
       " 'PovStatsFootNote.csv',\n",
       " 'PovStatsSeries.csv']"
      ]
     },
     "execution_count": 7,
     "metadata": {},
     "output_type": "execute_result"
    }
   ],
   "source": [
    "import os\n",
    "os.listdir('../data')"
   ]
  },
  {
   "cell_type": "code",
   "execution_count": 9,
   "id": "74c42397-dc15-47bb-a781-437cf1ddf1c0",
   "metadata": {},
   "outputs": [
    {
     "name": "stderr",
     "output_type": "stream",
     "text": [
      "C:\\Users\\Zhangc\\Anaconda3\\envs\\PhelpsDunbar\\lib\\site-packages\\IPython\\core\\interactiveshell.py:3457: DtypeWarning:\n",
      "\n",
      "Columns (66,67,73,79,82,83) have mixed types.Specify dtype option on import or set low_memory=False.\n",
      "\n"
     ]
    },
    {
     "data": {
      "text/html": [
       "<div>\n",
       "<style scoped>\n",
       "    .dataframe tbody tr th:only-of-type {\n",
       "        vertical-align: middle;\n",
       "    }\n",
       "\n",
       "    .dataframe tbody tr th {\n",
       "        vertical-align: top;\n",
       "    }\n",
       "\n",
       "    .dataframe thead th {\n",
       "        text-align: right;\n",
       "    }\n",
       "</style>\n",
       "<table border=\"1\" class=\"dataframe\">\n",
       "  <thead>\n",
       "    <tr style=\"text-align: right;\">\n",
       "      <th></th>\n",
       "      <th>Country Name</th>\n",
       "      <th>Country Code</th>\n",
       "      <th>year</th>\n",
       "      <th>Annualized growth in per capita real survey mean consumption or income, bottom 40% (%)</th>\n",
       "      <th>Annualized growth in per capita real survey mean consumption or income, top 10% (%)</th>\n",
       "      <th>Annualized growth in per capita real survey mean consumption or income, top 60% (%)</th>\n",
       "      <th>Annualized growth in per capita real survey mean consumption or income, total population (%)</th>\n",
       "      <th>Annualized growth in per capita real survey median income or consumption expenditure (%)</th>\n",
       "      <th>GINI index (World Bank estimate)</th>\n",
       "      <th>Growth component of change in poverty at $1.90 a day (2011 PPP) (% of change)</th>\n",
       "      <th>...</th>\n",
       "      <th>Latest population census</th>\n",
       "      <th>Latest household survey</th>\n",
       "      <th>Source of most recent Income and expenditure data</th>\n",
       "      <th>Vital registration complete</th>\n",
       "      <th>Latest agricultural census</th>\n",
       "      <th>Latest industrial data</th>\n",
       "      <th>Latest trade data</th>\n",
       "      <th>Unnamed: 30</th>\n",
       "      <th>is_country</th>\n",
       "      <th>flag</th>\n",
       "    </tr>\n",
       "  </thead>\n",
       "  <tbody>\n",
       "    <tr>\n",
       "      <th>0</th>\n",
       "      <td>Afghanistan</td>\n",
       "      <td>AFG</td>\n",
       "      <td>1974</td>\n",
       "      <td>NaN</td>\n",
       "      <td>NaN</td>\n",
       "      <td>NaN</td>\n",
       "      <td>NaN</td>\n",
       "      <td>NaN</td>\n",
       "      <td>NaN</td>\n",
       "      <td>NaN</td>\n",
       "      <td>...</td>\n",
       "      <td>1979</td>\n",
       "      <td>Demographic and Health Survey, 2015</td>\n",
       "      <td>Integrated household survey (IHS), 2016/17</td>\n",
       "      <td>NaN</td>\n",
       "      <td>NaN</td>\n",
       "      <td>NaN</td>\n",
       "      <td>2017.0</td>\n",
       "      <td>NaN</td>\n",
       "      <td>True</td>\n",
       "      <td>🇦🇫</td>\n",
       "    </tr>\n",
       "    <tr>\n",
       "      <th>1</th>\n",
       "      <td>Afghanistan</td>\n",
       "      <td>AFG</td>\n",
       "      <td>1975</td>\n",
       "      <td>NaN</td>\n",
       "      <td>NaN</td>\n",
       "      <td>NaN</td>\n",
       "      <td>NaN</td>\n",
       "      <td>NaN</td>\n",
       "      <td>NaN</td>\n",
       "      <td>NaN</td>\n",
       "      <td>...</td>\n",
       "      <td>1979</td>\n",
       "      <td>Demographic and Health Survey, 2015</td>\n",
       "      <td>Integrated household survey (IHS), 2016/17</td>\n",
       "      <td>NaN</td>\n",
       "      <td>NaN</td>\n",
       "      <td>NaN</td>\n",
       "      <td>2017.0</td>\n",
       "      <td>NaN</td>\n",
       "      <td>True</td>\n",
       "      <td>🇦🇫</td>\n",
       "    </tr>\n",
       "    <tr>\n",
       "      <th>2</th>\n",
       "      <td>Afghanistan</td>\n",
       "      <td>AFG</td>\n",
       "      <td>1976</td>\n",
       "      <td>NaN</td>\n",
       "      <td>NaN</td>\n",
       "      <td>NaN</td>\n",
       "      <td>NaN</td>\n",
       "      <td>NaN</td>\n",
       "      <td>NaN</td>\n",
       "      <td>NaN</td>\n",
       "      <td>...</td>\n",
       "      <td>1979</td>\n",
       "      <td>Demographic and Health Survey, 2015</td>\n",
       "      <td>Integrated household survey (IHS), 2016/17</td>\n",
       "      <td>NaN</td>\n",
       "      <td>NaN</td>\n",
       "      <td>NaN</td>\n",
       "      <td>2017.0</td>\n",
       "      <td>NaN</td>\n",
       "      <td>True</td>\n",
       "      <td>🇦🇫</td>\n",
       "    </tr>\n",
       "  </tbody>\n",
       "</table>\n",
       "<p>3 rows × 89 columns</p>\n",
       "</div>"
      ],
      "text/plain": [
       "  Country Name Country Code  year  \\\n",
       "0  Afghanistan          AFG  1974   \n",
       "1  Afghanistan          AFG  1975   \n",
       "2  Afghanistan          AFG  1976   \n",
       "\n",
       "   Annualized growth in per capita real survey mean consumption or income, bottom 40% (%)  \\\n",
       "0                                                NaN                                        \n",
       "1                                                NaN                                        \n",
       "2                                                NaN                                        \n",
       "\n",
       "   Annualized growth in per capita real survey mean consumption or income, top 10% (%)  \\\n",
       "0                                                NaN                                     \n",
       "1                                                NaN                                     \n",
       "2                                                NaN                                     \n",
       "\n",
       "   Annualized growth in per capita real survey mean consumption or income, top 60% (%)  \\\n",
       "0                                                NaN                                     \n",
       "1                                                NaN                                     \n",
       "2                                                NaN                                     \n",
       "\n",
       "   Annualized growth in per capita real survey mean consumption or income, total population (%)  \\\n",
       "0                                                NaN                                              \n",
       "1                                                NaN                                              \n",
       "2                                                NaN                                              \n",
       "\n",
       "   Annualized growth in per capita real survey median income or consumption expenditure (%)  \\\n",
       "0                                                NaN                                          \n",
       "1                                                NaN                                          \n",
       "2                                                NaN                                          \n",
       "\n",
       "   GINI index (World Bank estimate)  \\\n",
       "0                               NaN   \n",
       "1                               NaN   \n",
       "2                               NaN   \n",
       "\n",
       "   Growth component of change in poverty at $1.90 a day (2011 PPP) (% of change)  \\\n",
       "0                                                NaN                               \n",
       "1                                                NaN                               \n",
       "2                                                NaN                               \n",
       "\n",
       "   ...  Latest population census              Latest household survey  \\\n",
       "0  ...                      1979  Demographic and Health Survey, 2015   \n",
       "1  ...                      1979  Demographic and Health Survey, 2015   \n",
       "2  ...                      1979  Demographic and Health Survey, 2015   \n",
       "\n",
       "   Source of most recent Income and expenditure data  \\\n",
       "0         Integrated household survey (IHS), 2016/17   \n",
       "1         Integrated household survey (IHS), 2016/17   \n",
       "2         Integrated household survey (IHS), 2016/17   \n",
       "\n",
       "   Vital registration complete  Latest agricultural census  \\\n",
       "0                          NaN                         NaN   \n",
       "1                          NaN                         NaN   \n",
       "2                          NaN                         NaN   \n",
       "\n",
       "   Latest industrial data  Latest trade data  Unnamed: 30  is_country  flag  \n",
       "0                     NaN             2017.0          NaN        True    🇦🇫  \n",
       "1                     NaN             2017.0          NaN        True    🇦🇫  \n",
       "2                     NaN             2017.0          NaN        True    🇦🇫  \n",
       "\n",
       "[3 rows x 89 columns]"
      ]
     },
     "execution_count": 9,
     "metadata": {},
     "output_type": "execute_result"
    }
   ],
   "source": [
    "import pandas as pd\n",
    "poverty_data = pd.read_csv('../data/poverty.csv')\n",
    "poverty_data.head(3)"
   ]
  },
  {
   "cell_type": "code",
   "execution_count": null,
   "id": "f78d119b-6cea-4885-854a-b8286ea0802c",
   "metadata": {},
   "outputs": [],
   "source": []
  }
 ],
 "metadata": {
  "kernelspec": {
   "display_name": "Python 3 (ipykernel)",
   "language": "python",
   "name": "python3"
  },
  "language_info": {
   "codemirror_mode": {
    "name": "ipython",
    "version": 3
   },
   "file_extension": ".py",
   "mimetype": "text/x-python",
   "name": "python",
   "nbconvert_exporter": "python",
   "pygments_lexer": "ipython3",
   "version": "3.7.1"
  }
 },
 "nbformat": 4,
 "nbformat_minor": 5
}
