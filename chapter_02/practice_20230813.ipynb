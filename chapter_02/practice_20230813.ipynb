{
 "cells": [
  {
   "cell_type": "code",
   "execution_count": 1,
   "id": "e572b4e1-0ce6-4529-81dd-574140c25ad6",
   "metadata": {},
   "outputs": [
    {
     "data": {
      "text/plain": [
       "'D:\\\\Github\\\\Interactive-Dashboards-and-Data-Apps-with-Plotly-and-Dash\\\\dash_project\\\\Scripts\\\\python.exe'"
      ]
     },
     "execution_count": 1,
     "metadata": {},
     "output_type": "execute_result"
    }
   ],
   "source": [
    "import sys\n",
    "sys.executable"
   ]
  },
  {
   "cell_type": "code",
   "execution_count": 3,
   "id": "6a340b6c-214f-4811-96b4-902adc929a25",
   "metadata": {},
   "outputs": [],
   "source": [
    "from dash import Dash\n",
    "from dash import html, dcc\n",
    "from dash.dependencies import Output, Input"
   ]
  },
  {
   "cell_type": "code",
   "execution_count": 4,
   "id": "b25c0c5a-5d28-48c9-804d-53ceb3db753c",
   "metadata": {},
   "outputs": [],
   "source": [
    "app = Dash(__name__)"
   ]
  },
  {
   "cell_type": "code",
   "execution_count": 11,
   "id": "daf2d76d-4bf3-4d6d-9ff4-11e9849331b0",
   "metadata": {},
   "outputs": [],
   "source": [
    "app.layout = html.Div([\n",
    "    dcc.Dropdown(id = 'color_dropdown',\n",
    "                 options = [{\n",
    "        'label': color, 'value': color\n",
    "    }\n",
    "                           for color in ['blue', 'green', 'yellow']]),\n",
    "    html.Div(id = 'color_output')\n",
    "])\n",
    "@app.callback(Output('color_output', 'children'),\n",
    "             Input('color_dropdown', 'value'))\n",
    "def display_selected_color(color):\n",
    "    if color is None:\n",
    "        color = 'Nothing'\n",
    "    return 'You selected ' + color"
   ]
  },
  {
   "cell_type": "code",
   "execution_count": 12,
   "id": "71b415f8-3408-4de3-97a0-35bed77217d2",
   "metadata": {
    "scrolled": true
   },
   "outputs": [
    {
     "data": {
      "text/html": [
       "\n",
       "        <iframe\n",
       "            width=\"100%\"\n",
       "            height=\"650\"\n",
       "            src=\"http://127.0.0.1:8050/\"\n",
       "            frameborder=\"0\"\n",
       "            allowfullscreen\n",
       "            \n",
       "        ></iframe>\n",
       "        "
      ],
      "text/plain": [
       "<IPython.lib.display.IFrame at 0x1ac6aa4baf0>"
      ]
     },
     "metadata": {},
     "output_type": "display_data"
    }
   ],
   "source": [
    "if __name__ == '__main__':\n",
    "    app.run_server(mode = 'inline')"
   ]
  },
  {
   "cell_type": "code",
   "execution_count": null,
   "id": "4037d586-dd5f-4557-851f-b3d3819eb105",
   "metadata": {},
   "outputs": [],
   "source": []
  }
 ],
 "metadata": {
  "kernelspec": {
   "display_name": "Python 3 (ipykernel)",
   "language": "python",
   "name": "python3"
  },
  "language_info": {
   "codemirror_mode": {
    "name": "ipython",
    "version": 3
   },
   "file_extension": ".py",
   "mimetype": "text/x-python",
   "name": "python",
   "nbconvert_exporter": "python",
   "pygments_lexer": "ipython3",
   "version": "3.10.2"
  }
 },
 "nbformat": 4,
 "nbformat_minor": 5
}
